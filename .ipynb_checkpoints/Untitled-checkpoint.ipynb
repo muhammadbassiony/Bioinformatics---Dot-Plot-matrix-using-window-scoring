{
 "cells": [
  {
   "cell_type": "code",
   "execution_count": 1,
   "id": "amended-selection",
   "metadata": {},
   "outputs": [],
   "source": [
    "import numpy as np\n",
    "from matplotlib import pyplot as plt\n",
    "%matplotlib inline\n",
    "\n",
    "import re\n",
    "from itertools import groupby"
   ]
  },
  {
   "cell_type": "code",
   "execution_count": 44,
   "id": "offensive-simpson",
   "metadata": {},
   "outputs": [
    {
     "name": "stdout",
     "output_type": "stream",
     "text": [
      "['A' 'T' 'C' 'G' 'T' 'A' 'G' 'C' 'T' 'A' 'C' 'G' 'T' 'A' 'C' 'G' 'T' 'U'\n",
      " 'A'] \n",
      "\n",
      " ['A' 'T' 'G' 'C' 'G' 'A' 'T' 'C' 'G' 'T' 'G' 'C' 'T' 'A' 'C']\n",
      "19 15\n"
     ]
    }
   ],
   "source": [
    "X, Y = 'ATCGTAGCTACGTACGTUA', 'ATGCGATCGTGCTAC'\n",
    "X, Y = np.array(list(X)), np.array(list(Y))\n",
    "\n",
    "print(X, '\\n\\n',Y)\n",
    "print(len(X), len(Y))"
   ]
  },
  {
   "cell_type": "code",
   "execution_count": 75,
   "id": "pursuant-raise",
   "metadata": {
    "scrolled": false
   },
   "outputs": [
    {
     "name": "stdout",
     "output_type": "stream",
     "text": [
      "(16, 20)\n",
      "[[0 0 0 1 0 1 0 0 0 0 0 0 0 0 0 0 0 0 0 0]\n",
      " [0 0 0 0 0 0 0 0 0 0 0 0 0 0 0 0 0 0 0 0]\n",
      " [0 0 0 0 0 0 0 0 0 0 0 0 0 0 0 0 0 0 0 0]\n",
      " [0 0 0 0 0 0 0 0 0 0 0 0 0 0 0 0 0 0 0 0]\n",
      " [0 0 0 0 0 1 0 0 0 0 0 0 0 0 0 0 0 0 0 0]\n",
      " [0 0 0 0 0 0 0 0 0 0 0 0 0 0 0 0 0 0 0 0]\n",
      " [0 0 0 0 0 0 0 0 0 0 0 0 0 0 0 0 0 0 0 0]\n",
      " [0 0 0 0 0 0 0 0 0 0 0 0 0 0 0 0 0 0 0 0]\n",
      " [0 0 0 0 0 0 0 0 0 0 0 0 0 0 0 0 0 0 0 0]\n",
      " [0 0 0 0 0 0 0 0 0 0 0 0 0 0 0 0 0 0 0 0]\n",
      " [0 0 0 0 0 0 0 0 0 0 0 0 0 0 0 0 0 0 0 0]\n",
      " [0 0 0 0 0 0 0 0 0 0 0 0 0 0 0 0 0 0 0 0]\n",
      " [0 0 0 0 0 0 0 0 0 0 0 0 0 0 0 0 0 0 0 0]\n",
      " [0 0 0 0 0 0 0 0 0 0 0 0 0 0 0 0 0 0 0 0]\n",
      " [0 0 0 0 0 0 0 0 0 0 0 0 0 0 0 0 0 0 0 0]\n",
      " [0 0 0 0 0 0 0 0 0 0 0 0 0 0 0 0 0 0 0 0]]\n"
     ]
    },
    {
     "data": {
      "image/png": "[encoded data removed]",
      "text/plain": [
       "<Figure size 432x288 with 1 Axes>"
      ]
     },
     "metadata": {
      "needs_background": "light"
     },
     "output_type": "display_data"
    }
   ],
   "source": [
    "X, Y = 'ATCGTAGCTACGTACGTUA', 'ATGCGATCGTGCTAC'\n",
    "X, Y = np.array(list(X)), np.array(list(Y))\n",
    "\n",
    "#create 2d matrix\n",
    "matrix = [X, Y]\n",
    "matrix = np.array(matrix, dtype=object)\n",
    "matrix = np.zeros((len(Y)+1, len(X)+1), dtype=object)\n",
    "print(matrix.shape)\n",
    "#X = np.insert(X, 0, 0, axis=0)\n",
    "#print(X)\n",
    "#Y = np.insert(Y, 0, 0, axis = 0)\n",
    "#print(Y)\n",
    "# Y.reshape(-1,1)\n",
    "# print(Y.shape)\n",
    "#np.concatenate((matrix, Y), axis=1)\n",
    "# matrix[0, 1:] = X\n",
    "# matrix[1:,1] = Y\n",
    "\n",
    "matrix[0][3] = 1\n",
    "matrix[4][5] = 1\n",
    "matrix[0][5] = 1\n",
    "print(matrix)\n",
    "\n",
    "plt.spy(matrix)\n",
    "plt.xticks(np.arange(len(X)), X)\n",
    "plt.yticks(np.arange(len(Y)), Y)\n",
    "plt.show()\n",
    "\n",
    "# import scipy.sparse as sparse\n",
    "# A = sparse.random(100,100, density=0.01)\n",
    "# plt.spy(A, markersize=4)"
   ]
  },
  {
   "cell_type": "code",
   "execution_count": 4,
   "id": "colored-remainder",
   "metadata": {
    "scrolled": false
   },
   "outputs": [
    {
     "name": "stdout",
     "output_type": "stream",
     "text": [
      "\n",
      "HHH\n",
      "\n",
      " 0 3\n",
      "0 3\n",
      "SEQ1 ['A' 'T' 'C'] SEQ2 ['A' 'T' 'G']\n",
      "\n",
      "match\n",
      "\n"
     ]
    },
    {
     "ename": "TypeError",
     "evalue": "Cannot construct a dtype from an array",
     "output_type": "error",
     "traceback": [
      "\u001b[1;31m---------------------------------------------------------------------------\u001b[0m",
      "\u001b[1;31mTypeError\u001b[0m                                 Traceback (most recent call last)",
      "\u001b[1;32m<ipython-input-4-d551f4e5745a>\u001b[0m in \u001b[0;36m<module>\u001b[1;34m\u001b[0m\n\u001b[0;32m     35\u001b[0m \u001b[1;33m\u001b[0m\u001b[0m\n\u001b[0;32m     36\u001b[0m         \u001b[1;31m#create 2d matrix\u001b[0m\u001b[1;33m\u001b[0m\u001b[1;33m\u001b[0m\u001b[1;33m\u001b[0m\u001b[0m\n\u001b[1;32m---> 37\u001b[1;33m         \u001b[0mmatrix\u001b[0m \u001b[1;33m=\u001b[0m \u001b[0mnp\u001b[0m\u001b[1;33m.\u001b[0m\u001b[0marray\u001b[0m\u001b[1;33m(\u001b[0m\u001b[0mX\u001b[0m\u001b[1;33m,\u001b[0m \u001b[0mY\u001b[0m\u001b[1;33m)\u001b[0m\u001b[1;33m\u001b[0m\u001b[1;33m\u001b[0m\u001b[0m\n\u001b[0m\u001b[0;32m     38\u001b[0m         \u001b[0mprint\u001b[0m\u001b[1;33m(\u001b[0m\u001b[0mmatrix\u001b[0m\u001b[1;33m)\u001b[0m\u001b[1;33m\u001b[0m\u001b[1;33m\u001b[0m\u001b[0m\n\u001b[0;32m     39\u001b[0m \u001b[1;33m\u001b[0m\u001b[0m\n",
      "\u001b[1;31mTypeError\u001b[0m: Cannot construct a dtype from an array"
     ]
    }
   ],
   "source": [
    "window = 3\n",
    "threshold = 2\n",
    "\n",
    "for i in range(0, len(X), window):\n",
    "    if i+window <= len(X):\n",
    "        print('\\nHHH\\n\\n',i, i+window)\n",
    "        seq1 = X[i:i+window]\n",
    "    #print()\n",
    "    \n",
    "    for j in range(0, len(Y), window):\n",
    "        if j+window <= len(Y):\n",
    "            print(j, j+window)\n",
    "            seq2 = Y[j:j+window]\n",
    "            print('SEQ1',seq1,'SEQ2',seq2)\n",
    "        \n",
    "        \n",
    "        seq3 = np.zeros((window), dtype=int)\n",
    "        #print('SEQ3 :: ', seq3)\n",
    "        \n",
    "        for k in range(window):\n",
    "            if(seq1[k] == seq2[k]):\n",
    "                seq3[k] = 1\n",
    "        \n",
    "        #this is the matched sequence\n",
    "        #print('SEQ3 :: ', seq3)\n",
    "        \n",
    "        g = groupby(seq3, key=lambda x:x>0)\n",
    "        m = max([list(s) for v, s in g if v > 0.0], key=len, default=0)\n",
    "        #print('MMMM :::', len(m))\n",
    "        m = np.array(m)\n",
    "        #print(type(m), m, m.size)\n",
    "        if(m.size >= threshold):\n",
    "            print('\\nmatch\\n')\n",
    "                 \n",
    "        \n",
    "       \n",
    "        \n",
    "        \n",
    "        \"\"\"\n",
    "        plt.imshow(X==Y[:,None])        # the magic happens here, contourf should work similarly\n",
    "        plt.xticks(np.arange(len(X)), X[i:i+window])\n",
    "        plt.yticks(np.arange(len(Y)), Y[j:j+window])\n",
    "        plt.show()\n",
    "        \"\"\""
   ]
  },
  {
   "cell_type": "code",
   "execution_count": null,
   "id": "oriented-lesbian",
   "metadata": {
    "scrolled": true
   },
   "outputs": [],
   "source": [
    "import numpy as np\n",
    "from PIL import Image\n",
    "from PIL import ImageFont\n",
    "from PIL import ImageDraw\n",
    "import os\n",
    "\n",
    "def read():\n",
    "    # the dna sequences exists in a  dna.txt file\n",
    "    with open(\"data.txt\", \"r\") as reader:\n",
    "        seq1 = reader.read()\n",
    "        seq1 = seq1.split('\\n')\n",
    "        seq2 = seq1[1]\n",
    "        seq1 = seq1[0]\n",
    "        seq1 = seq1.replace(' ','')\n",
    "        seq2 = seq2.replace(' ', '')\n",
    "    return seq1,seq2\n",
    "\n",
    "def dot_plot(seq1,seq2,window_size,threshold):\n",
    "    \n",
    "    length1 = len(seq1)\n",
    "    length2 = len(seq2)\n",
    "    \n",
    "    array = np.zeros([length1+2, length2+2], dtype=np.uint8)\n",
    "    \n",
    "    for x in range(length1 +2 ):\n",
    "        for y in range(length2 +2):\n",
    "            array[x][y] = 255\n",
    "\n",
    "    window1= seq1[:window_size]\n",
    "    window2= seq2[:window_size]\n",
    "    print(window1, '', window2)\n",
    "    for j in range(length2 - window_size+1) :\n",
    "        window2 = seq2[j:window_size + j]\n",
    "        match= 0;\n",
    "        for i in range(length1 - window_size +1):\n",
    "            print('here\\n\\n',window1, window2, 'hulo\\n\\n')\n",
    "            match = 0\n",
    "            window_letters1 = list(window1)\n",
    "            window_letters2 = list(window2)\n",
    "            print(window_letters1,window_letters2)\n",
    "            index = 0\n",
    "            for letter1 in window_letters1:\n",
    "                    if letter1 == window_letters2[index]:\n",
    "                        match += 1\n",
    "                        #print('match?')\n",
    "                    index+=1\n",
    "            if match >= threshold:\n",
    "                array[i+2][j+2] = 0\n",
    "                print('match')\n",
    "            window1 = seq1[i:window_size + i]\n",
    "    return array\n",
    "\n",
    "\n",
    "window_size = 3\n",
    "threshold = 3\n",
    "#seq1,seq2 = read()\n",
    "print(X, ' ' , Y)\n",
    "array = dot_plot(X,Y,window_size,threshold)\n",
    "\n",
    "img = Image.fromarray(array)\n",
    "img.save('sample_in.png')"
   ]
  },
  {
   "cell_type": "code",
   "execution_count": null,
   "id": "vanilla-angle",
   "metadata": {},
   "outputs": [],
   "source": []
  }
 ],
 "metadata": {
  "kernelspec": {
   "display_name": "Python 3",
   "language": "python",
   "name": "python3"
  },
  "language_info": {
   "codemirror_mode": {
    "name": "ipython",
    "version": 3
   },
   "file_extension": ".py",
   "mimetype": "text/x-python",
   "name": "python",
   "nbconvert_exporter": "python",
   "pygments_lexer": "ipython3",
   "version": "3.7.10"
  }
 },
 "nbformat": 4,
 "nbformat_minor": 5
}

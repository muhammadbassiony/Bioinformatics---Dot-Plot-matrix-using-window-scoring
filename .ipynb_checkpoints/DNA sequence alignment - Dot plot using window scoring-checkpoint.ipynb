{
 "cells": [
  {
   "cell_type": "code",
   "execution_count": 1,
   "id": "amended-selection",
   "metadata": {},
   "outputs": [],
   "source": [
    "import numpy as np\n",
    "from matplotlib import pyplot as plt\n",
    "%matplotlib inline\n",
    "\n",
    "import re\n",
    "from itertools import groupby"
   ]
  },
  {
   "cell_type": "code",
   "execution_count": 2,
   "id": "offensive-simpson",
   "metadata": {},
   "outputs": [],
   "source": [
    "X, Y = 'ATCGTAGCTACGTACGTUA', 'ATGCGATCGTGCTAC'\n",
    "X, Y = np.array(list(X)), np.array(list(Y))\n",
    "\n",
    "# print(X, '\\n\\n',Y)\n",
    "# print(len(X), len(Y))\n",
    "\n"
   ]
  },
  {
   "cell_type": "code",
   "execution_count": 3,
   "id": "executed-authorization",
   "metadata": {},
   "outputs": [],
   "source": [
    "def new_matrix(X, Y):\n",
    "    matrix = np.zeros((len(Y)+1, len(X)+1), dtype=object)\n",
    "    # print(matrix.shape)\n",
    "    # print(matrix)\n",
    "    return matrix"
   ]
  },
  {
   "cell_type": "code",
   "execution_count": 16,
   "id": "invisible-following",
   "metadata": {},
   "outputs": [],
   "source": [
    "def plot_matrix(matrix):\n",
    "    plt.spy(matrix)\n",
    "    plt.xticks(np.arange(len(X)), X)\n",
    "    plt.yticks(np.arange(len(Y)), Y)\n",
    "    plt.show()"
   ]
  },
  {
   "cell_type": "code",
   "execution_count": 17,
   "id": "anonymous-major",
   "metadata": {},
   "outputs": [
    {
     "data": {
      "image/png": "[encoded data removed]",
      "text/plain": [
       "<Figure size 432x288 with 1 Axes>"
      ]
     },
     "metadata": {
      "needs_background": "light"
     },
     "output_type": "display_data"
    }
   ],
   "source": [
    "matrix = new_matrix(X, Y)\n",
    "plot_matrix(matrix)"
   ]
  },
  {
   "cell_type": "code",
   "execution_count": 37,
   "id": "colored-remainder",
   "metadata": {
    "scrolled": false
   },
   "outputs": [],
   "source": [
    "\n",
    "def dot_matrix(X, Y, window, threshold):\n",
    "\n",
    "    window = window\n",
    "    threshold = threshold\n",
    "\n",
    "    for i in range(0, len(X), window):\n",
    "\n",
    "        if i+window <= len(X):\n",
    "            #print('\\nHHH\\n\\n',i, i+window)\n",
    "            seq1 = X[i:i+window]\n",
    "        else:\n",
    "            continue\n",
    "\n",
    "\n",
    "        for j in range(0, len(Y), window):\n",
    "\n",
    "            if j+window <= len(Y):\n",
    "                #print(j, j+window)\n",
    "                seq2 = Y[j:j+window]\n",
    "                #print('SEQ1',seq1,'SEQ2',seq2)\n",
    "            else:\n",
    "                continue\n",
    "\n",
    "\n",
    "            seq3 = np.zeros((window), dtype=int)\n",
    "            m = new_matrix(X,Y)\n",
    "\n",
    "            for k in range(window):\n",
    "                if(seq1[k] == seq2[k]):\n",
    "                    seq3[k] = 1\n",
    "                    #print(seq1[k],i+k, seq2[k], j+k)\n",
    "                    m[j+k][i+k] = 1\n",
    "\n",
    "\n",
    "\n",
    "            #this is the matched sequence\n",
    "            #print('SEQUENCE :: ', seq3)\n",
    "\n",
    "    #         plot_matrix(m)\n",
    "\n",
    "            g = groupby(seq3, key=lambda x:x>0)\n",
    "            ms = max([list(s) for v, s in g if v > 0.0], key=len, default=0)\n",
    "            ms = np.array(ms)\n",
    "            if(ms.size >= threshold):\n",
    "                print('\\nMATCHED\\n')\n",
    "                print('SEQ1 :: ',seq1,'SEQ2 :: ',seq2)\n",
    "                plot_matrix(m)\n",
    "                print('*'*30)\n",
    "\n"
   ]
  },
  {
   "cell_type": "code",
   "execution_count": 38,
   "id": "vanilla-angle",
   "metadata": {
    "scrolled": false
   },
   "outputs": [
    {
     "name": "stdout",
     "output_type": "stream",
     "text": [
      "\n",
      "MATCHED\n",
      "\n",
      "SEQ1 ::  ['A' 'T' 'C'] SEQ2 ::  ['A' 'T' 'G']\n"
     ]
    },
    {
     "data": {
      "image/png": "[encoded data removed]",
      "text/plain": [
       "<Figure size 432x288 with 1 Axes>"
      ]
     },
     "metadata": {
      "needs_background": "light"
     },
     "output_type": "display_data"
    },
    {
     "name": "stdout",
     "output_type": "stream",
     "text": [
      "******************************\n",
      "\n",
      "MATCHED\n",
      "\n",
      "SEQ1 ::  ['A' 'C' 'G'] SEQ2 ::  ['T' 'C' 'G']\n"
     ]
    },
    {
     "data": {
      "image/png": "[encoded data removed]",
      "text/plain": [
       "<Figure size 432x288 with 1 Axes>"
      ]
     },
     "metadata": {
      "needs_background": "light"
     },
     "output_type": "display_data"
    },
    {
     "name": "stdout",
     "output_type": "stream",
     "text": [
      "******************************\n",
      "\n",
      "MATCHED\n",
      "\n",
      "SEQ1 ::  ['T' 'A' 'C'] SEQ2 ::  ['T' 'A' 'C']\n"
     ]
    },
    {
     "data": {
      "image/png": "[encoded data removed]",
      "text/plain": [
       "<Figure size 432x288 with 1 Axes>"
      ]
     },
     "metadata": {
      "needs_background": "light"
     },
     "output_type": "display_data"
    },
    {
     "name": "stdout",
     "output_type": "stream",
     "text": [
      "******************************\n"
     ]
    }
   ],
   "source": [
    "dot_matrix(X,Y, 3, 2)"
   ]
  },
  {
   "cell_type": "code",
   "execution_count": null,
   "id": "recreational-taste",
   "metadata": {},
   "outputs": [],
   "source": []
  }
 ],
 "metadata": {
  "kernelspec": {
   "display_name": "Python 3",
   "language": "python",
   "name": "python3"
  },
  "language_info": {
   "codemirror_mode": {
    "name": "ipython",
    "version": 3
   },
   "file_extension": ".py",
   "mimetype": "text/x-python",
   "name": "python",
   "nbconvert_exporter": "python",
   "pygments_lexer": "ipython3",
   "version": "3.7.10"
  }
 },
 "nbformat": 4,
 "nbformat_minor": 5
}
